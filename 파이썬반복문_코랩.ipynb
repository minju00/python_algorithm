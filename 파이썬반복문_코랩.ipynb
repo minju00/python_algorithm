{
  "nbformat": 4,
  "nbformat_minor": 0,
  "metadata": {
    "colab": {
      "provenance": [],
      "authorship_tag": "ABX9TyNfN0xwJdiSWeANfbSFfPcn",
      "include_colab_link": true
    },
    "kernelspec": {
      "name": "python3",
      "display_name": "Python 3"
    },
    "language_info": {
      "name": "python"
    }
  },
  "cells": [
    {
      "cell_type": "markdown",
      "metadata": {
        "id": "view-in-github",
        "colab_type": "text"
      },
      "source": [
        "<a href=\"https://colab.research.google.com/github/minju00/python_algorithm/blob/main/%ED%8C%8C%EC%9D%B4%EC%8D%AC%EB%B0%98%EB%B3%B5%EB%AC%B8_%EC%BD%94%EB%9E%A9.ipynb\" target=\"_parent\"><img src=\"https://colab.research.google.com/assets/colab-badge.svg\" alt=\"Open In Colab\"/></a>"
      ]
    },
    {
      "cell_type": "markdown",
      "source": [
        "# 반복"
      ],
      "metadata": {
        "id": "Z3-qjj-eqPz9"
      }
    },
    {
      "cell_type": "code",
      "execution_count": null,
      "metadata": {
        "colab": {
          "base_uri": "https://localhost:8080/"
        },
        "id": "ykxEY4mTp7WX",
        "outputId": "7c6eb645-aaec-4cf3-bde0-3b40faf25a7a"
      },
      "outputs": [
        {
          "output_type": "execute_result",
          "data": {
            "text/plain": [
              "[0, 1, 2, 3, 4]"
            ]
          },
          "metadata": {},
          "execution_count": 5
        }
      ],
      "source": [
        "list(range(5))"
      ]
    },
    {
      "cell_type": "code",
      "source": [
        "list(range(0,5))"
      ],
      "metadata": {
        "colab": {
          "base_uri": "https://localhost:8080/"
        },
        "id": "7TbYMNJzrAm3",
        "outputId": "51cf880e-8561-4273-da4a-b69b1a038f36"
      },
      "execution_count": null,
      "outputs": [
        {
          "output_type": "execute_result",
          "data": {
            "text/plain": [
              "[0, 1, 2, 3, 4]"
            ]
          },
          "metadata": {},
          "execution_count": 2
        }
      ]
    },
    {
      "cell_type": "code",
      "source": [
        "list(range(1,11))"
      ],
      "metadata": {
        "colab": {
          "base_uri": "https://localhost:8080/"
        },
        "id": "K0CxZ86jrSZB",
        "outputId": "3f069a2b-6de7-4308-efc0-265dd8d0177f"
      },
      "execution_count": null,
      "outputs": [
        {
          "output_type": "execute_result",
          "data": {
            "text/plain": [
              "[1, 2, 3, 4, 5, 6, 7, 8, 9, 10]"
            ]
          },
          "metadata": {},
          "execution_count": 3
        }
      ]
    },
    {
      "cell_type": "code",
      "source": [
        "list(range(1,4))"
      ],
      "metadata": {
        "colab": {
          "base_uri": "https://localhost:8080/"
        },
        "id": "o-ajOZ0_rURx",
        "outputId": "19fbc13d-6ee4-4dae-d4fb-bfe6c651095a"
      },
      "execution_count": null,
      "outputs": [
        {
          "output_type": "execute_result",
          "data": {
            "text/plain": [
              "[1, 2, 3]"
            ]
          },
          "metadata": {},
          "execution_count": 7
        }
      ]
    },
    {
      "cell_type": "markdown",
      "source": [
        "### range(a,b) -> a에서 시작해서 b 바로 앞의 값까지 1씩 늘리면서 반복하는 것"
      ],
      "metadata": {
        "id": "bEz2V0KIsjUk"
      }
    },
    {
      "cell_type": "code",
      "source": [
        "#1부터 10까지 숫자의 합계를 구하는 프로그램\n",
        "s = 0\n",
        "for x in range(1,11):\n",
        "  s = s+x\n",
        "  print(\"x:\", x, \"sum:\",s)"
      ],
      "metadata": {
        "id": "PKq7ha1KsNIV",
        "outputId": "f4123580-c367-4775-84d8-c45528716416",
        "colab": {
          "base_uri": "https://localhost:8080/"
        }
      },
      "execution_count": null,
      "outputs": [
        {
          "output_type": "stream",
          "name": "stdout",
          "text": [
            "x: 1 sum: 1\n",
            "x: 2 sum: 3\n",
            "x: 3 sum: 6\n",
            "x: 4 sum: 10\n",
            "x: 5 sum: 15\n",
            "x: 6 sum: 21\n",
            "x: 7 sum: 28\n",
            "x: 8 sum: 36\n",
            "x: 9 sum: 45\n",
            "x: 10 sum: 55\n"
          ]
        }
      ]
    },
    {
      "cell_type": "markdown",
      "source": [
        "**변수 이름 정하기!**\n",
        "1. 변수 이름은 영문 대/소문자, 숫자, 밑줄로만 만들 수 있고, 공백을 사용할 수 없다\n",
        "2. 변수 이름은 숫자로 시작할 수 없다\n",
        "3. 영문 대/소문자를 구분한다"
      ],
      "metadata": {
        "id": "uCoxrmR6s59u"
      }
    },
    {
      "cell_type": "code",
      "source": [
        "# 파이썬의 입력처리 input()\n",
        "name = input(\"Your name? \")\n",
        "print(\"Hello\", name)"
      ],
      "metadata": {
        "id": "wQX_MQBZstLd",
        "outputId": "6c2d73af-4bdc-467d-8013-821b7adf67e6",
        "colab": {
          "base_uri": "https://localhost:8080/"
        }
      },
      "execution_count": null,
      "outputs": [
        {
          "output_type": "stream",
          "name": "stdout",
          "text": [
            "Your name?김길벗\n",
            "Hello 김길벗\n"
          ]
        }
      ]
    },
    {
      "cell_type": "code",
      "source": [
        "# 숫자 두 개 입력받아 곱하는 프로그램\n",
        "x = input(\"입력해 :\")\n",
        "a = int(x)\n",
        "\n",
        "y = input(\"입력해 :\")\n",
        "b = int(y)\n",
        "\n",
        "print(a*b)"
      ],
      "metadata": {
        "id": "y8gpBnAWoF-g",
        "outputId": "b35aef0b-da00-4b72-e652-cb357aca9ec5",
        "colab": {
          "base_uri": "https://localhost:8080/"
        }
      },
      "execution_count": null,
      "outputs": [
        {
          "output_type": "stream",
          "name": "stdout",
          "text": [
            "입력해 :3\n",
            "입력해 :7\n",
            "21\n"
          ]
        }
      ]
    },
    {
      "cell_type": "code",
      "source": [
        "# 속으로 20초를 세어 맞히는 프로그램\n",
        "import time as t\n",
        "\n",
        "input(\"엔터를 누르고 20초를 셉니다\")\n",
        "start = t.time()\n",
        "\n",
        "input(\"20초 후에 다시 엔터를 누릅니다.\")\n",
        "end = t.time()\n",
        "\n",
        "et = end-start\n",
        "print(\"실제 시간:\" ,et,\"초\")\n",
        "print(\"차이:\" ,abs(et-20),\"초\")\n"
      ],
      "metadata": {
        "id": "bNtWRWE6omP7",
        "outputId": "9befff54-44f5-4a76-a593-fab339bbeb28",
        "colab": {
          "base_uri": "https://localhost:8080/"
        }
      },
      "execution_count": null,
      "outputs": [
        {
          "output_type": "stream",
          "name": "stdout",
          "text": [
            "엔터를 누르고 20초를 셉니다 \n",
            "20초 후에 다시 엔터를 누릅니다.\n",
            "실제 시간: 19.428406476974487 초\n",
            "차이: 0.5715935230255127 초\n"
          ]
        }
      ]
    },
    {
      "cell_type": "code",
      "source": [
        "x = int(input(\"12 + 23 = \"))\n",
        "if x == 12 + 23:\n",
        "  print(\"천재!\")\n",
        "else:\n",
        "  print(\"바보!\")"
      ],
      "metadata": {
        "id": "zkNAcc2VpNB6",
        "outputId": "931e144b-b905-482d-a6f2-93d00e5ff700",
        "colab": {
          "base_uri": "https://localhost:8080/"
        }
      },
      "execution_count": 7,
      "outputs": [
        {
          "output_type": "stream",
          "name": "stdout",
          "text": [
            "12 + 23 = 35\n",
            "천재!\n"
          ]
        }
      ]
    },
    {
      "cell_type": "markdown",
      "source": [
        "### range(a,b) 와 random.randint(a,b)\n",
        "range(a,b)는 a부터 b-1를 하나씩 반복\n",
        "random.randint(a,b)는 a부터 b까지의 임의의 정수"
      ],
      "metadata": {
        "id": "U5gdWQvBscT9"
      }
    },
    {
      "cell_type": "code",
      "source": [
        "import random\n",
        "\n",
        "a = random.randint(1, 30)\n",
        "b = random.randint(1,30)\n",
        "print(a,\"+\",b,\"=\")\n",
        "x = int(input())\n",
        "if a + b == x:\n",
        "  print(\"맞았습니다\")\n",
        "else:\n",
        "  print(\"틀렸습니다\")"
      ],
      "metadata": {
        "id": "IyRsdkNVtlFc",
        "outputId": "461c7417-5c59-416b-f3da-3cc281fc5dc2",
        "colab": {
          "base_uri": "https://localhost:8080/"
        }
      },
      "execution_count": 10,
      "outputs": [
        {
          "output_type": "stream",
          "name": "stdout",
          "text": [
            "12 + 18 =\n",
            "30\n",
            "맞았습니다\n"
          ]
        }
      ]
    },
    {
      "cell_type": "markdown",
      "source": [
        "while문\n",
        "    \n",
        "\n",
        "```\n",
        " while 판단조건:\n",
        "    반복 실행할 내용\n",
        "```\n",
        "\n"
      ],
      "metadata": {
        "id": "KmXVjWp5uMN7"
      }
    },
    {
      "cell_type": "code",
      "source": [
        "#1부터 10까지의 숫자 합계 구하기\n",
        "sum = 0\n",
        "x = 1\n",
        "while x <=10:\n",
        "  sum = sum + x\n",
        "  print(\"x:\",x,\" sum:\",sum)\n",
        "  x = x+1"
      ],
      "metadata": {
        "id": "O5P4kEaGuSOk",
        "outputId": "1d3e68df-8abc-4705-bf0c-2e1c4098eff4",
        "colab": {
          "base_uri": "https://localhost:8080/"
        }
      },
      "execution_count": 12,
      "outputs": [
        {
          "output_type": "stream",
          "name": "stdout",
          "text": [
            "x: 1  sum: 1\n",
            "x: 2  sum: 3\n",
            "x: 3  sum: 6\n",
            "x: 4  sum: 10\n",
            "x: 5  sum: 15\n",
            "x: 6  sum: 21\n",
            "x: 7  sum: 28\n",
            "x: 8  sum: 36\n",
            "x: 9  sum: 45\n",
            "x: 10  sum: 55\n"
          ]
        }
      ]
    }
  ]
}